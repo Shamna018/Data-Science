{
 "cells": [
  {
   "cell_type": "code",
   "execution_count": 1,
   "metadata": {},
   "outputs": [
    {
     "name": "stdout",
     "output_type": "stream",
     "text": [
      "The Matrix a is : \n",
      " [[1 2 3]\n",
      " [1 2 4]\n",
      " [1 4 2]]\n",
      "\n",
      "The Matrix b is : \n",
      " [[3 1 3]\n",
      " [3 2 1]\n",
      " [4 1 2]]\n",
      "\n",
      "Multiplication of Matrix a and b is :\n",
      " [[21  8 11]\n",
      " [25  9 13]\n",
      " [23 11 11]]\n",
      "\n",
      "Transpose of Matrix b is :\n",
      " [[3 3 4]\n",
      " [1 2 1]\n",
      " [3 1 2]]\n"
     ]
    }
   ],
   "source": [
    "#Program to Perform Matrix Multiplication and Transformation Using Python\n",
    "import numpy as np\n",
    "a=np.array([[1,2,3],[1,2,4],[1,4,2]])\n",
    "print(\"The Matrix a is : \\n\",a)\n",
    "\n",
    "b=np.array([[3,1,3],[3,2,1],[4,1,2]])\n",
    "print(\"\\nThe Matrix b is : \\n\",b)\n",
    " \n",
    "print(\"\\nMultiplication of Matrix a and b is :\\n\",np.dot(a,b))\n",
    "\n",
    "print(\"\\nTranspose of Matrix b is :\\n\",b.transpose())"
   ]
  },
  {
   "cell_type": "code",
   "execution_count": null,
   "metadata": {
    "collapsed": true
   },
   "outputs": [],
   "source": []
  }
 ],
 "metadata": {
  "kernelspec": {
   "display_name": "Python 3",
   "language": "python",
   "name": "python3"
  },
  "language_info": {
   "codemirror_mode": {
    "name": "ipython",
    "version": 3
   },
   "file_extension": ".py",
   "mimetype": "text/x-python",
   "name": "python",
   "nbconvert_exporter": "python",
   "pygments_lexer": "ipython3",
   "version": "3.6.3"
  }
 },
 "nbformat": 4,
 "nbformat_minor": 2
}
