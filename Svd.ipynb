{
 "cells": [
  {
   "cell_type": "code",
   "execution_count": 1,
   "metadata": {},
   "outputs": [
    {
     "name": "stdout",
     "output_type": "stream",
     "text": [
      "The Matrix a is : \n",
      " [[1 2 3]\n",
      " [4 5 6]\n",
      " [7 8 9]]\n",
      "\n",
      " v =  [[-0.21483724  0.88723069  0.40824829]\n",
      " [-0.52058739  0.24964395 -0.81649658]\n",
      " [-0.82633754 -0.38794278  0.40824829]]\n",
      "\n",
      " s =  [1.68481034e+01 1.06836951e+00 4.41842475e-16]\n",
      "\n",
      " t =  [[-0.47967118 -0.57236779 -0.66506441]\n",
      " [-0.77669099 -0.07568647  0.62531805]\n",
      " [-0.40824829  0.81649658 -0.40824829]]\n",
      "\n",
      " [[1. 2. 3.]\n",
      " [4. 5. 6.]\n",
      " [7. 8. 9.]]\n"
     ]
    }
   ],
   "source": [
    "#Program to Perform svd Using Python\n",
    "import numpy as np\n",
    "from scipy.linalg import svd\n",
    "a=np.array([[1,2,3],[4,5,6],[7,8,9]])\n",
    "print(\"The Matrix a is : \\n\",a)\n",
    "\n",
    "v,s,t=svd(a) #to find svd\n",
    "print(\"\\n v = \",v)\n",
    "print(\"\\n s = \",s)\n",
    "print(\"\\n t = \",t)\n",
    "\n",
    "e=(v @ np.diag(s) @t)\n",
    "print(\"\\n\",e)"
   ]
  },
  {
   "cell_type": "code",
   "execution_count": null,
   "metadata": {
    "collapsed": true
   },
   "outputs": [],
   "source": []
  }
 ],
 "metadata": {
  "kernelspec": {
   "display_name": "Python 3",
   "language": "python",
   "name": "python3"
  },
  "language_info": {
   "codemirror_mode": {
    "name": "ipython",
    "version": 3
   },
   "file_extension": ".py",
   "mimetype": "text/x-python",
   "name": "python",
   "nbconvert_exporter": "python",
   "pygments_lexer": "ipython3",
   "version": "3.6.3"
  }
 },
 "nbformat": 4,
 "nbformat_minor": 2
}
