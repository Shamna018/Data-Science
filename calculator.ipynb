{
 "cells": [
  {
   "cell_type": "code",
   "execution_count": 11,
   "metadata": {},
   "outputs": [
    {
     "name": "stdout",
     "output_type": "stream",
     "text": [
      "Enter the Number1 :8\n",
      "Enter the Number2 :4\n",
      "\n",
      "1.Addition \n",
      "2.Subraction \n",
      "3.Multiplication \n",
      "4.Division \n",
      "5.Exit\n",
      "\n",
      "Enter your Choice :1\n",
      "8 + 4 = 12\n",
      "\n",
      "1.Addition \n",
      "2.Subraction \n",
      "3.Multiplication \n",
      "4.Division \n",
      "5.Exit\n",
      "\n",
      "Enter your Choice :2\n",
      "8 - 4 = 4\n",
      "\n",
      "1.Addition \n",
      "2.Subraction \n",
      "3.Multiplication \n",
      "4.Division \n",
      "5.Exit\n",
      "\n",
      "Enter your Choice :3\n",
      "8 * 4 = 32\n",
      "\n",
      "1.Addition \n",
      "2.Subraction \n",
      "3.Multiplication \n",
      "4.Division \n",
      "5.Exit\n",
      "\n",
      "Enter your Choice :4\n",
      "8 / 4 = 2.0\n",
      "\n",
      "1.Addition \n",
      "2.Subraction \n",
      "3.Multiplication \n",
      "4.Division \n",
      "5.Exit\n",
      "\n",
      "Enter your Choice :5\n",
      "Exiting...!\n"
     ]
    }
   ],
   "source": [
    "#program to implement simple calculator\n",
    "n1=int(input(\"Enter the Number1 :\"))\n",
    "n2=int(input(\"Enter the Number2 :\"))\n",
    "while(1):\n",
    "    print(\"\\n1.Addition \\n2.Subraction \\n3.Multiplication \\n4.Division \\n5.Exit\")\n",
    "    ch=int(input(\"\\nEnter your Choice :\"))\n",
    "    if ch==1:\n",
    "        sum=n1+n2\n",
    "        print(n1,\"+\",n2,\"=\",sum)\n",
    "    elif ch==2:\n",
    "        sub=n1-n2\n",
    "        print(n1,\"-\",n2,\"=\",sub)\n",
    "    elif ch==3:\n",
    "        mul=n1*n2\n",
    "        print(n1,\"*\",n2,\"=\",mul)\n",
    "    elif ch==4:\n",
    "        if n2==0:\n",
    "            print(\"division not possible !\")\n",
    "            break\n",
    "        div=n1/n2\n",
    "        print(n1,\"/\",n2,\"=\",div)\n",
    "    else:\n",
    "        print(\"Exiting...!\")\n",
    "        break\n",
    "       \n"
   ]
  },
  {
   "cell_type": "code",
   "execution_count": null,
   "metadata": {
    "collapsed": true
   },
   "outputs": [],
   "source": []
  }
 ],
 "metadata": {
  "kernelspec": {
   "display_name": "Python 3",
   "language": "python",
   "name": "python3"
  },
  "language_info": {
   "codemirror_mode": {
    "name": "ipython",
    "version": 3
   },
   "file_extension": ".py",
   "mimetype": "text/x-python",
   "name": "python",
   "nbconvert_exporter": "python",
   "pygments_lexer": "ipython3",
   "version": "3.6.3"
  }
 },
 "nbformat": 4,
 "nbformat_minor": 2
}
