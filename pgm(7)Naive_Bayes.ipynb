{
 "cells": [
  {
   "cell_type": "code",
   "execution_count": 1,
   "metadata": {},
   "outputs": [
    {
     "name": "stdout",
     "output_type": "stream",
     "text": [
      "[2 1 0 2 0 2 0 1 1 1 2 1 1 1 1 0 1 1 0 0 2 1 0 0 2 0 0 1 1 0 2 1 0 2 2 1 0\n",
      " 1]\n",
      "[2 1 0 2 0 2 0 1 1 1 2 1 1 1 1 0 1 1 0 0 2 1 0 0 2 0 0 1 1 0 2 1 0 2 2 1 0\n",
      " 1]\n",
      "confusion matrix \n",
      " [[13  0  0]\n",
      " [ 0 16  0]\n",
      " [ 0  0  9]]\n",
      "\n",
      " Accuracy score\n",
      " 1.0\n"
     ]
    }
   ],
   "source": [
    "from sklearn.datasets import load_iris\n",
    "dataset=load_iris()\n",
    "x=dataset.data\n",
    "y=dataset.target\n",
    "\n",
    "\n",
    "#splitting\n",
    "from sklearn.model_selection import train_test_split \n",
    "x_train,x_test,y_train,y_test=train_test_split(x,y,test_size=0.25,random_state=0)\n",
    "\n",
    "\n",
    "#prediction\n",
    "from sklearn.naive_bayes import GaussianNB as Gb\n",
    "c=Gb()\n",
    "c.fit(x_train,y_train)\n",
    "p=c.predict(x_test)\n",
    "print(p)\n",
    "print(y_test)\n",
    "\n",
    "\n",
    "#evaluation\n",
    "from sklearn.metrics import accuracy_score,confusion_matrix\n",
    "result=confusion_matrix(p,y_test)\n",
    "acc_score=accuracy_score(p,y_test)\n",
    "print(\"confusion matrix \\n\",result)\n",
    "print(\"\\n Accuracy score\\n\",acc_score)"
   ]
  },
  {
   "cell_type": "code",
   "execution_count": null,
   "metadata": {
    "collapsed": true
   },
   "outputs": [],
   "source": []
  }
 ],
 "metadata": {
  "kernelspec": {
   "display_name": "Python 3",
   "language": "python",
   "name": "python3"
  },
  "language_info": {
   "codemirror_mode": {
    "name": "ipython",
    "version": 3
   },
   "file_extension": ".py",
   "mimetype": "text/x-python",
   "name": "python",
   "nbconvert_exporter": "python",
   "pygments_lexer": "ipython3",
   "version": "3.6.3"
  }
 },
 "nbformat": 4,
 "nbformat_minor": 2
}
